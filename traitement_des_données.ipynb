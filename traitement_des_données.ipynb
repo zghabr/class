{
  "nbformat": 4,
  "nbformat_minor": 0,
  "metadata": {
    "colab": {
      "name": "traitement_des_données.ipynb",
      "provenance": [],
      "collapsed_sections": [],
      "include_colab_link": true
    },
    "kernelspec": {
      "name": "python3",
      "display_name": "Python 3"
    },
    "language_info": {
      "name": "python"
    }
  },
  "cells": [
    {
      "cell_type": "markdown",
      "metadata": {
        "id": "view-in-github",
        "colab_type": "text"
      },
      "source": [
        "<a href=\"https://colab.research.google.com/github/zghabr/class/blob/main/traitement_des_donn%C3%A9es.ipynb\" target=\"_parent\"><img src=\"https://colab.research.google.com/assets/colab-badge.svg\" alt=\"Open In Colab\"/></a>"
      ]
    },
    {
      "cell_type": "code",
      "metadata": {
        "id": "ndtGkQn8ptIN"
      },
      "source": [
        "import numpy as np\n",
        "import matplotlib.pyplot as plt\n",
        "import pandas as pd \n",
        "import seaborn as sns \n",
        "%matplotlib inline "
      ],
      "execution_count": 2,
      "outputs": []
    },
    {
      "cell_type": "code",
      "metadata": {
        "id": "kVv6Y69MWypQ",
        "colab": {
          "base_uri": "https://localhost:8080/",
          "height": 618
        },
        "outputId": "5bbb4344-c2af-4e7f-d815-b4efa30000a1"
      },
      "source": [
        "dateCols=['DateDebut', 'DateFin']\n",
        "df=pd.read_csv(\"/content/fichier.csv\",encoding='latin-1', error_bad_lines=False, parse_dates=dateCols)\n",
        "df"
      ],
      "execution_count": 3,
      "outputs": [
        {
          "output_type": "stream",
          "name": "stderr",
          "text": [
            "b'Skipping line 5: expected 17 fields, saw 18\\nSkipping line 12: expected 17 fields, saw 18\\nSkipping line 14: expected 17 fields, saw 18\\nSkipping line 20: expected 17 fields, saw 18\\nSkipping line 25: expected 17 fields, saw 18\\nSkipping line 30: expected 17 fields, saw 18\\nSkipping line 33: expected 17 fields, saw 18\\nSkipping line 39: expected 17 fields, saw 18\\nSkipping line 44: expected 17 fields, saw 18\\nSkipping line 58: expected 17 fields, saw 18\\nSkipping line 65: expected 17 fields, saw 18\\nSkipping line 77: expected 17 fields, saw 18\\nSkipping line 82: expected 17 fields, saw 18\\nSkipping line 93: expected 17 fields, saw 18\\nSkipping line 98: expected 17 fields, saw 18\\nSkipping line 100: expected 17 fields, saw 18\\nSkipping line 112: expected 17 fields, saw 18\\nSkipping line 113: expected 17 fields, saw 18\\nSkipping line 114: expected 17 fields, saw 18\\nSkipping line 115: expected 17 fields, saw 18\\nSkipping line 117: expected 17 fields, saw 18\\nSkipping line 127: expected 17 fields, saw 18\\nSkipping line 131: expected 17 fields, saw 18\\nSkipping line 133: expected 17 fields, saw 18\\nSkipping line 134: expected 17 fields, saw 18\\nSkipping line 138: expected 17 fields, saw 18\\nSkipping line 144: expected 17 fields, saw 18\\nSkipping line 146: expected 17 fields, saw 18\\nSkipping line 151: expected 17 fields, saw 18\\nSkipping line 163: expected 17 fields, saw 18\\nSkipping line 171: expected 17 fields, saw 18\\nSkipping line 183: expected 17 fields, saw 18\\nSkipping line 187: expected 17 fields, saw 18\\nSkipping line 191: expected 17 fields, saw 18\\nSkipping line 200: expected 17 fields, saw 18\\nSkipping line 207: expected 17 fields, saw 18\\nSkipping line 235: expected 17 fields, saw 18\\n'\n"
          ]
        },
        {
          "output_type": "execute_result",
          "data": {
            "text/html": [
              "<div>\n",
              "<style scoped>\n",
              "    .dataframe tbody tr th:only-of-type {\n",
              "        vertical-align: middle;\n",
              "    }\n",
              "\n",
              "    .dataframe tbody tr th {\n",
              "        vertical-align: top;\n",
              "    }\n",
              "\n",
              "    .dataframe thead th {\n",
              "        text-align: right;\n",
              "    }\n",
              "</style>\n",
              "<table border=\"1\" class=\"dataframe\">\n",
              "  <thead>\n",
              "    <tr style=\"text-align: right;\">\n",
              "      <th></th>\n",
              "      <th>RefTache</th>\n",
              "      <th>RefPhase</th>\n",
              "      <th>Nom</th>\n",
              "      <th>Description</th>\n",
              "      <th>IDressource</th>\n",
              "      <th>IDprojet</th>\n",
              "      <th>DateDebut</th>\n",
              "      <th>DateFin</th>\n",
              "      <th>statut</th>\n",
              "      <th>cout</th>\n",
              "      <th>IDtache</th>\n",
              "      <th>duree</th>\n",
              "      <th>Depend</th>\n",
              "      <th>Progress</th>\n",
              "      <th>Priorite</th>\n",
              "      <th>WF</th>\n",
              "      <th>Doc</th>\n",
              "    </tr>\n",
              "  </thead>\n",
              "  <tbody>\n",
              "    <tr>\n",
              "      <th>0</th>\n",
              "      <td>1</td>\n",
              "      <td>1</td>\n",
              "      <td>Develop requipement</td>\n",
              "      <td>NaN</td>\n",
              "      <td>RS_00000007</td>\n",
              "      <td>PR_4de85e43</td>\n",
              "      <td>2021-03-03</td>\n",
              "      <td>2021-03-05</td>\n",
              "      <td>Completed</td>\n",
              "      <td>90</td>\n",
              "      <td>T_31726481</td>\n",
              "      <td>3</td>\n",
              "      <td>F</td>\n",
              "      <td>100</td>\n",
              "      <td>High</td>\n",
              "      <td>F</td>\n",
              "      <td>F</td>\n",
              "    </tr>\n",
              "    <tr>\n",
              "      <th>1</th>\n",
              "      <td>1</td>\n",
              "      <td>1</td>\n",
              "      <td>tâ^che_1</td>\n",
              "      <td>NaN</td>\n",
              "      <td>RS_00000007</td>\n",
              "      <td>PR_7592ee20</td>\n",
              "      <td>2021-09-13</td>\n",
              "      <td>2021-09-15</td>\n",
              "      <td>To do</td>\n",
              "      <td>180</td>\n",
              "      <td>T_45545bdf</td>\n",
              "      <td>3</td>\n",
              "      <td>F</td>\n",
              "      <td>0</td>\n",
              "      <td>Normal</td>\n",
              "      <td>F</td>\n",
              "      <td>F</td>\n",
              "    </tr>\n",
              "    <tr>\n",
              "      <th>2</th>\n",
              "      <td>1</td>\n",
              "      <td>1</td>\n",
              "      <td>Développer les exigences</td>\n",
              "      <td>NaN</td>\n",
              "      <td>RS_00000007</td>\n",
              "      <td>PR_79c72c17</td>\n",
              "      <td>2021-04-09</td>\n",
              "      <td>2021-04-21</td>\n",
              "      <td>In progress</td>\n",
              "      <td>650</td>\n",
              "      <td>T_50c7c860</td>\n",
              "      <td>13</td>\n",
              "      <td>F</td>\n",
              "      <td>55</td>\n",
              "      <td>Normal</td>\n",
              "      <td>F</td>\n",
              "      <td>F</td>\n",
              "    </tr>\n",
              "    <tr>\n",
              "      <th>3</th>\n",
              "      <td>1</td>\n",
              "      <td>1</td>\n",
              "      <td>task11</td>\n",
              "      <td>NaN</td>\n",
              "      <td>RS_00000007</td>\n",
              "      <td>PR_a09b822f</td>\n",
              "      <td>2021-02-11</td>\n",
              "      <td>2021-02-23</td>\n",
              "      <td>To do</td>\n",
              "      <td>520</td>\n",
              "      <td>T_2f2aa9b1</td>\n",
              "      <td>13</td>\n",
              "      <td>F</td>\n",
              "      <td>0</td>\n",
              "      <td>Normal</td>\n",
              "      <td>F</td>\n",
              "      <td>F</td>\n",
              "    </tr>\n",
              "    <tr>\n",
              "      <th>4</th>\n",
              "      <td>1</td>\n",
              "      <td>1</td>\n",
              "      <td>Poser les fraises dans des barquettes par les ...</td>\n",
              "      <td>NaN</td>\n",
              "      <td>RS_2df0a9a1</td>\n",
              "      <td>PR_d73e8c92</td>\n",
              "      <td>2021-03-02</td>\n",
              "      <td>2021-03-03</td>\n",
              "      <td>In progress</td>\n",
              "      <td>120</td>\n",
              "      <td>T_56e4562d</td>\n",
              "      <td>2</td>\n",
              "      <td>F</td>\n",
              "      <td>82</td>\n",
              "      <td>Normal</td>\n",
              "      <td>F</td>\n",
              "      <td>F</td>\n",
              "    </tr>\n",
              "    <tr>\n",
              "      <th>...</th>\n",
              "      <td>...</td>\n",
              "      <td>...</td>\n",
              "      <td>...</td>\n",
              "      <td>...</td>\n",
              "      <td>...</td>\n",
              "      <td>...</td>\n",
              "      <td>...</td>\n",
              "      <td>...</td>\n",
              "      <td>...</td>\n",
              "      <td>...</td>\n",
              "      <td>...</td>\n",
              "      <td>...</td>\n",
              "      <td>...</td>\n",
              "      <td>...</td>\n",
              "      <td>...</td>\n",
              "      <td>...</td>\n",
              "      <td>...</td>\n",
              "    </tr>\n",
              "    <tr>\n",
              "      <th>195</th>\n",
              "      <td>9</td>\n",
              "      <td>4</td>\n",
              "      <td>tac10</td>\n",
              "      <td>NaN</td>\n",
              "      <td>RS_2df0a9a1</td>\n",
              "      <td>PR_7592ee20</td>\n",
              "      <td>2022-01-18</td>\n",
              "      <td>2022-01-22</td>\n",
              "      <td>To do</td>\n",
              "      <td>100</td>\n",
              "      <td>T_c1f87f80</td>\n",
              "      <td>5</td>\n",
              "      <td>T</td>\n",
              "      <td>0</td>\n",
              "      <td>Normal</td>\n",
              "      <td>F</td>\n",
              "      <td>F</td>\n",
              "    </tr>\n",
              "    <tr>\n",
              "      <th>196</th>\n",
              "      <td>9</td>\n",
              "      <td>4</td>\n",
              "      <td>tes9</td>\n",
              "      <td>NaN</td>\n",
              "      <td>RS_00000007</td>\n",
              "      <td>PR_eba064d3</td>\n",
              "      <td>2021-11-12</td>\n",
              "      <td>2021-11-23</td>\n",
              "      <td>To do</td>\n",
              "      <td>120</td>\n",
              "      <td>T_b484cda3</td>\n",
              "      <td>12</td>\n",
              "      <td>T</td>\n",
              "      <td>0</td>\n",
              "      <td>Normal</td>\n",
              "      <td>F</td>\n",
              "      <td>F</td>\n",
              "    </tr>\n",
              "    <tr>\n",
              "      <th>197</th>\n",
              "      <td>9</td>\n",
              "      <td>6</td>\n",
              "      <td>ta19</td>\n",
              "      <td>NaN</td>\n",
              "      <td>RS_d2548e04</td>\n",
              "      <td>PR_eba064d3</td>\n",
              "      <td>2021-12-14</td>\n",
              "      <td>2021-12-15</td>\n",
              "      <td>To do</td>\n",
              "      <td>80</td>\n",
              "      <td>T_868309c8</td>\n",
              "      <td>2</td>\n",
              "      <td>T</td>\n",
              "      <td>0</td>\n",
              "      <td>Normal</td>\n",
              "      <td>F</td>\n",
              "      <td>F</td>\n",
              "    </tr>\n",
              "    <tr>\n",
              "      <th>198</th>\n",
              "      <td>9</td>\n",
              "      <td>7</td>\n",
              "      <td>ta29</td>\n",
              "      <td>NaN</td>\n",
              "      <td>RS_00000001</td>\n",
              "      <td>PR_eba064d3</td>\n",
              "      <td>2022-01-08</td>\n",
              "      <td>2022-01-08</td>\n",
              "      <td>To do</td>\n",
              "      <td>30</td>\n",
              "      <td>T_460f2c21</td>\n",
              "      <td>1</td>\n",
              "      <td>F</td>\n",
              "      <td>0</td>\n",
              "      <td>Normal</td>\n",
              "      <td>F</td>\n",
              "      <td>F</td>\n",
              "    </tr>\n",
              "    <tr>\n",
              "      <th>199</th>\n",
              "      <td>9</td>\n",
              "      <td>8</td>\n",
              "      <td>tas39</td>\n",
              "      <td>NaN</td>\n",
              "      <td>RS_7f607ec8</td>\n",
              "      <td>PR_eba064d3</td>\n",
              "      <td>2022-01-15</td>\n",
              "      <td>2022-01-28</td>\n",
              "      <td>To do</td>\n",
              "      <td>1960</td>\n",
              "      <td>T_578fbed9</td>\n",
              "      <td>14</td>\n",
              "      <td>F</td>\n",
              "      <td>0</td>\n",
              "      <td>Normal</td>\n",
              "      <td>F</td>\n",
              "      <td>F</td>\n",
              "    </tr>\n",
              "  </tbody>\n",
              "</table>\n",
              "<p>200 rows × 17 columns</p>\n",
              "</div>"
            ],
            "text/plain": [
              "     RefTache  RefPhase  ... WF  Doc\n",
              "0           1         1  ...  F    F\n",
              "1           1         1  ...  F    F\n",
              "2           1         1  ...  F    F\n",
              "3           1         1  ...  F    F\n",
              "4           1         1  ...  F    F\n",
              "..        ...       ...  ... ..  ...\n",
              "195         9         4  ...  F    F\n",
              "196         9         4  ...  F    F\n",
              "197         9         6  ...  F    F\n",
              "198         9         7  ...  F    F\n",
              "199         9         8  ...  F    F\n",
              "\n",
              "[200 rows x 17 columns]"
            ]
          },
          "metadata": {},
          "execution_count": 3
        }
      ]
    },
    {
      "cell_type": "code",
      "metadata": {
        "id": "sXnERmCLW4hF"
      },
      "source": [
        "df.dtypes"
      ],
      "execution_count": null,
      "outputs": []
    },
    {
      "cell_type": "code",
      "metadata": {
        "id": "scGFkRw3Zmao"
      },
      "source": [
        "df.drop(df.index[7:190],0,inplace=True)\n",
        "df"
      ],
      "execution_count": null,
      "outputs": []
    },
    {
      "cell_type": "code",
      "metadata": {
        "id": "urvCQfiyp68E"
      },
      "source": [
        "df=df.drop(['RefTache', 'RefPhase', 'Nom','Description','IDprojet' ,'cout', 'statut', 'Progress', 'Doc', 'WF', 'Priorite'], axis='columns')\n",
        "df"
      ],
      "execution_count": null,
      "outputs": []
    },
    {
      "cell_type": "code",
      "metadata": {
        "id": "BynL2oeaqA_1"
      },
      "source": [
        "df = df[df['IDressource'].notna()]\n",
        "df"
      ],
      "execution_count": null,
      "outputs": []
    },
    {
      "cell_type": "code",
      "metadata": {
        "id": "Fy7QdBdlqJCd"
      },
      "source": [
        "def preProcessing(df):\n",
        "    df=df.dropna(axis = 1)\n",
        "    #df = df.dropna(axis = 1)\n",
        "    df.head()\n",
        "    return df\n",
        "df = preProcessing(df)\n",
        "df"
      ],
      "execution_count": null,
      "outputs": []
    },
    {
      "cell_type": "code",
      "metadata": {
        "id": "GE6UUCiAqNwu"
      },
      "source": [
        "df1=df.sort_values(by=['DateDebut'])\n",
        "df1"
      ],
      "execution_count": null,
      "outputs": []
    },
    {
      "cell_type": "code",
      "metadata": {
        "id": "Bzg2o00yNBND"
      },
      "source": [
        "df=df.assign(Dateplustot=\"\", datefin1=\"\")\n",
        "df"
      ],
      "execution_count": null,
      "outputs": []
    },
    {
      "cell_type": "code",
      "metadata": {
        "id": "A-G7i1TXOk1r"
      },
      "source": [
        "L=df['IDtache'].to_list()\n",
        "L"
      ],
      "execution_count": null,
      "outputs": []
    },
    {
      "cell_type": "code",
      "metadata": {
        "id": "Tu0c6AghPAFr"
      },
      "source": [
        "L3=df[df[\"Depend\"]==\"T\"]\n",
        "L3"
      ],
      "execution_count": null,
      "outputs": []
    },
    {
      "cell_type": "code",
      "metadata": {
        "id": "X-P6zzN9MYG9"
      },
      "source": [
        "L4=L3['IDtache'].to_list()\n",
        "L4"
      ],
      "execution_count": null,
      "outputs": []
    },
    {
      "cell_type": "code",
      "metadata": {
        "id": "Yt34wTz-ZKId"
      },
      "source": [
        "L4.extend(L2)\n",
        "L4"
      ],
      "execution_count": null,
      "outputs": []
    },
    {
      "cell_type": "code",
      "metadata": {
        "id": "yJQjzrcVNy-e"
      },
      "source": [
        "L1=df[df[\"Depend\"]==\"F\"]\n",
        "L1"
      ],
      "execution_count": null,
      "outputs": []
    },
    {
      "cell_type": "code",
      "metadata": {
        "id": "_t44vzocOiHW"
      },
      "source": [
        "L2= L1['IDtache'].to_list()\n",
        "L2"
      ],
      "execution_count": null,
      "outputs": []
    },
    {
      "cell_type": "code",
      "metadata": {
        "id": "AYh6kwIeWf-g"
      },
      "source": [
        "d0=df['DateDebut'].min()\n",
        "d0"
      ],
      "execution_count": null,
      "outputs": []
    },
    {
      "cell_type": "code",
      "metadata": {
        "id": "EvSX2FTKNVxo"
      },
      "source": [
        "DD=df['DateDebut']\n",
        "DD"
      ],
      "execution_count": null,
      "outputs": []
    },
    {
      "cell_type": "code",
      "metadata": {
        "id": "BkwjdmiPNiRi"
      },
      "source": [
        "d=df['duree']\n",
        "d"
      ],
      "execution_count": null,
      "outputs": []
    },
    {
      "cell_type": "code",
      "metadata": {
        "id": "fdZnHa2kNnnc"
      },
      "source": [
        "depend=df['Depend']\n",
        "depend"
      ],
      "execution_count": null,
      "outputs": []
    },
    {
      "cell_type": "code",
      "metadata": {
        "id": "zUjv2H_YcqiO"
      },
      "source": [
        "L"
      ],
      "execution_count": null,
      "outputs": []
    },
    {
      "cell_type": "code",
      "metadata": {
        "id": "W1XcAG42C-29"
      },
      "source": [
        "class Tache:\n",
        "\n",
        "  def __init__(self, liste):\n",
        "    self.liste=L\n",
        "    \n",
        "  def get_données(self, d, depend):\n",
        "    self.DateDebut=DD\n",
        "    self.duree=d\n",
        "    self.Depend=depend"
      ],
      "execution_count": null,
      "outputs": []
    },
    {
      "cell_type": "code",
      "metadata": {
        "id": "OR6b9OUAc3W3"
      },
      "source": [
        "T=Tache(L)\n",
        "\n"
      ],
      "execution_count": null,
      "outputs": []
    },
    {
      "cell_type": "code",
      "metadata": {
        "id": "w3ZSaPCkQbZn"
      },
      "source": [
        "for i in df.index:\n",
        "  for j in L2:\n",
        "     df.Dateplustot[j]=d0\n",
        "  "
      ],
      "execution_count": null,
      "outputs": []
    },
    {
      "cell_type": "code",
      "metadata": {
        "id": "7ozNfZjFSehn"
      },
      "source": [
        "df"
      ],
      "execution_count": null,
      "outputs": []
    },
    {
      "cell_type": "code",
      "metadata": {
        "id": "yxmCZ1bD9whO"
      },
      "source": [
        "df.datefin1=df['DateDebut'] + pd.to_timedelta(df.duree+1, unit='d')\n",
        "df"
      ],
      "execution_count": null,
      "outputs": []
    },
    {
      "cell_type": "code",
      "metadata": {
        "id": "HeBVtXamGtIl"
      },
      "source": [
        "for i in df.index:\n",
        "   L=[]\n",
        "   L=taches(L4)\n",
        "   print(L.IDtache)\n",
        "   "
      ],
      "execution_count": null,
      "outputs": []
    },
    {
      "cell_type": "code",
      "metadata": {
        "id": "PP3k2ZbSS-hs"
      },
      "source": [
        "import datetime\n",
        "from datetime import timedelta, date\n",
        "for i in df.index:\n",
        "   df.datefin1[i] = datetime.datetime.strptime(df.datefin1[i], \"%m/%d/%y\"\")\n",
        "   df.datefin1[i] = df.datefin1[i] + datetime.timedelta(df.duree[i])"
      ],
      "execution_count": null,
      "outputs": []
    }
  ]
}